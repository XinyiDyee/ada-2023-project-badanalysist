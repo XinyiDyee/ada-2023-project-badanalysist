{
 "cells": [
  {
   "cell_type": "code",
   "execution_count": 1,
   "metadata": {},
   "outputs": [],
   "source": [
    "import pandas as pd"
   ]
  },
  {
   "cell_type": "code",
   "execution_count": 2,
   "metadata": {},
   "outputs": [],
   "source": [
    "def txt_to_csv(filepath, output_file_name):\n",
    "    print(\"opening....\")\n",
    "    with open(filepath) as f:\n",
    "        txt = f.read()\n",
    "    print(\"spliting....\")\n",
    "    lis_rating = txt.split('\\n\\n')\n",
    "    print(\"formating....\")\n",
    "    data_list_dict = []\n",
    "    for item in lis_rating:\n",
    "        try:\n",
    "            p = {ii.split(\": \")[0]: ii.split(\": \")[1] for ii in item.split('\\n')}\n",
    "        except:\n",
    "            print(item)\n",
    "            continue\n",
    "        data_list_dict.append(p)\n",
    "    print(\"dataframe....\")\n",
    "    df = pd.DataFrame(data_list_dict)\n",
    "    print(\"to csv file.....\")\n",
    "    df.to_csv(output_file_name, sep=',', encoding='utf-8')\n",
    "\n",
    "    return df"
   ]
  },
  {
   "cell_type": "code",
   "execution_count": 3,
   "metadata": {},
   "outputs": [],
   "source": [
    "fp1 = \"./BeerAdvocate/reviews.txt\"\n",
    "fp2 = \"./matched_beer_data/ratings_ba.txt\"\n",
    "fp3 = \"./matched_beer_data/ratings_rb.txt\"\n",
    "fp4 = \"./matched_beer_data/ratings_with_text_ba.txt\"\n",
    "fp5 = \"./matched_beer_data/ratings_with_text_rb.txt\"\n",
    "fp6 = \"./RateBeer/ratings.txt\"\n",
    "fp7 = \"./RateBeer/reviews.txt\""
   ]
  },
  {
   "cell_type": "code",
   "execution_count": 4,
   "metadata": {},
   "outputs": [],
   "source": [
    "ofn1 = \"reviews_ba.csv\"\n",
    "ofn2 = \"m_ratings_ba.csv\"\n",
    "ofn3 = \"m_reviews_rb.csv\"\n",
    "ofn4 = \"m_ratings_text_ba.csv\"\n",
    "ofn5 = \"m_ratings_text_rb.csv\"\n",
    "ofn6 = \"ratings_rb.csv\"\n",
    "ofn7 = \"reviews_rb.csv\""
   ]
  },
  {
   "cell_type": "code",
   "execution_count": 5,
   "metadata": {},
   "outputs": [
    {
     "name": "stdout",
     "output_type": "stream",
     "text": [
      "opening....\n",
      "spliting....\n",
      "formating....\n",
      "\n",
      "dataframe....\n",
      "to csv file.....\n"
     ]
    }
   ],
   "source": [
    "df1 = txt_to_csv(fp1, ofn1)"
   ]
  },
  {
   "cell_type": "code",
   "execution_count": 6,
   "metadata": {},
   "outputs": [
    {
     "name": "stdout",
     "output_type": "stream",
     "text": [
      "opening....\n",
      "spliting....\n",
      "formating....\n",
      "\n",
      "dataframe....\n",
      "to csv file.....\n"
     ]
    }
   ],
   "source": [
    "df2 = txt_to_csv(fp2, ofn2)"
   ]
  },
  {
   "cell_type": "code",
   "execution_count": 7,
   "metadata": {},
   "outputs": [
    {
     "name": "stdout",
     "output_type": "stream",
     "text": [
      "opening....\n",
      "spliting....\n",
      "formating....\n",
      "\n",
      "dataframe....\n",
      "to csv file.....\n"
     ]
    }
   ],
   "source": [
    "df3 = txt_to_csv(fp3, ofn3)"
   ]
  },
  {
   "cell_type": "code",
   "execution_count": 8,
   "metadata": {},
   "outputs": [
    {
     "name": "stdout",
     "output_type": "stream",
     "text": [
      "opening....\n",
      "spliting....\n",
      "formating....\n",
      "\n",
      "dataframe....\n",
      "to csv file.....\n"
     ]
    }
   ],
   "source": [
    "df4 = txt_to_csv(fp4, ofn4)"
   ]
  },
  {
   "cell_type": "code",
   "execution_count": 9,
   "metadata": {},
   "outputs": [
    {
     "name": "stdout",
     "output_type": "stream",
     "text": [
      "opening....\n",
      "spliting....\n",
      "formating....\n",
      "\n",
      "dataframe....\n",
      "to csv file.....\n"
     ]
    }
   ],
   "source": [
    "df5 = txt_to_csv(fp5, ofn5)"
   ]
  },
  {
   "cell_type": "code",
   "execution_count": 5,
   "metadata": {},
   "outputs": [
    {
     "name": "stdout",
     "output_type": "stream",
     "text": [
      "opening....\n",
      "spliting....\n",
      "formating....\n",
      "\n",
      "dataframe....\n",
      "to csv file.....\n"
     ]
    }
   ],
   "source": [
    "df6 = txt_to_csv(fp6, ofn6)"
   ]
  },
  {
   "cell_type": "code",
   "execution_count": 6,
   "metadata": {},
   "outputs": [
    {
     "name": "stdout",
     "output_type": "stream",
     "text": [
      "opening....\n",
      "spliting....\n",
      "formating....\n",
      "\n",
      "dataframe....\n",
      "to csv file.....\n"
     ]
    }
   ],
   "source": [
    "df7 = txt_to_csv(fp7, ofn7)"
   ]
  },
  {
   "cell_type": "code",
   "execution_count": null,
   "metadata": {},
   "outputs": [],
   "source": []
  }
 ],
 "metadata": {
  "kernelspec": {
   "display_name": "base",
   "language": "python",
   "name": "python3"
  },
  "language_info": {
   "codemirror_mode": {
    "name": "ipython",
    "version": 3
   },
   "file_extension": ".py",
   "mimetype": "text/x-python",
   "name": "python",
   "nbconvert_exporter": "python",
   "pygments_lexer": "ipython3",
   "version": "3.8.8"
  },
  "orig_nbformat": 4
 },
 "nbformat": 4,
 "nbformat_minor": 2
}
