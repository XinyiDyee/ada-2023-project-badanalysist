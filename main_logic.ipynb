{
 "cells": [
  {
   "cell_type": "code",
   "execution_count": 6,
   "metadata": {},
   "outputs": [],
   "source": [
    "import pandas as pd\n",
    "import numpy as np\n",
    "from util import *"
   ]
  },
  {
   "cell_type": "markdown",
   "metadata": {},
   "source": [
    "# Content:\n",
    "[1. Data Processing](##Data-Processing)\n",
    "\n",
    "[2. Beer Style Similarities](##Beer-Style-Similarities)\n",
    "\n",
    "- [2.1 Matching Product Beer Styles with Official Website Style Name](###Matching-Product-Beer-Styles-with-Official-Website-Style-Name)\n",
    "- [2.2 Matching Product Beer Styles Manually](###Matching-Product-Beer-Styles-Manually)\n",
    "- [2.2 Calculate Style Similarities](###Calculate-Style-Similarities)"
   ]
  },
  {
   "cell_type": "markdown",
   "metadata": {},
   "source": [
    "## Data Processing"
   ]
  },
  {
   "cell_type": "code",
   "execution_count": 22,
   "metadata": {},
   "outputs": [
    {
     "name": "stderr",
     "output_type": "stream",
     "text": [
      "<ipython-input-22-a32fd56fb7d8>:2: DtypeWarning: Columns (0,1,2,3,4,5,8,10,11,12,13,15,16,17,18,19,20,23,25,26,27,29,30,31,32) have mixed types. Specify dtype option on import or set low_memory=False.\n",
      "  beers_m = pd.read_csv('data/m_beers.csv')\n",
      "<ipython-input-22-a32fd56fb7d8>:3: DtypeWarning: Columns (0,1,2,3,5,7,8,9,10,11,13,17,18,19,20,22,24,25,26,27,29,31) have mixed types. Specify dtype option on import or set low_memory=False.\n",
      "  ratings_m = pd.read_csv('data/m_ratings.csv')\n"
     ]
    }
   ],
   "source": [
    "# Load the data:\n",
    "beers_m = pd.read_csv('data/m_beers.csv')\n",
    "ratings_m = pd.read_csv('data/m_ratings.csv')\n",
    "users_m = pd.read_csv('data/m_users_approx.csv')\n",
    "breweries_m = pd.read_csv('data/m_breweries.csv')\n",
    "styles_bab = pd.read_csv('data/beer_styles_bab.csv')\n",
    "styles_cb = pd.read_csv('data/beer_styles_cb.csv')\n",
    "\n",
    "# Split matched data, split_matched_data is a function in util.py\n",
    "beers_rb, beers_ba = split_matched_data(beers_m)\n",
    "users_rb, users_ba = split_matched_data(users_m)\n",
    "ratings_rb, ratings_ba = split_matched_data(ratings_m)\n",
    "breweries_rb, breweries_ba = split_matched_data(breweries_m)"
   ]
  },
  {
   "cell_type": "markdown",
   "metadata": {},
   "source": [
    "## Beer Style Similarities"
   ]
  },
  {
   "cell_type": "markdown",
   "metadata": {},
   "source": [
    "### Matching Product Beer Styles with Official Website Style Names"
   ]
  },
  {
   "cell_type": "code",
   "execution_count": 26,
   "metadata": {},
   "outputs": [],
   "source": [
    "# Get beers style\n",
    "product_style = pd.concat([beers_ba[['beer_id', 'style']], beers_rb[['beer_id', 'style']]], axis=0)\n",
    "\n",
    "# Product style set\n",
    "product_style_set = list(set(product_style['style']))\n",
    "\n",
    "# Get modified style name and description (official name in a beer style website)\n",
    "m_styles = pd.read_csv('data/m_styles.csv')\n",
    "styles_details = pd.merge(m_styles, styles_cb, how='left', left_on='Modified Style Name', right_on='style_name').drop_duplicates()\n",
    "\n",
    "# List to store the matching results\n",
    "matched_styles = []\n",
    "\n",
    "styles_group_1 = styles_details['Original Style Name']\n",
    "styles_group_2 = styles_bab['style_name']\n",
    "\n",
    "# Match each style and store the results in the list (use fuzzywuzzy)\n",
    "for style in styles_group_1:\n",
    "    matched_style = match_styles(style, styles_group_2)\n",
    "    matched_styles.append(matched_style)\n",
    "\n",
    "# Replenish the matching results to Modified Style Name\n",
    "styles_details['Modified Style Name 2'] = matched_styles\n",
    "styles_details['Modified Style Name'] = styles_details.apply(replace_style_name, axis=1)\n",
    "styles_details = styles_details.drop(columns=['Modified Style Name 2'])\n",
    "styles_details = styles_details.drop(columns=['style_name'])\n",
    "\n",
    "# List of column names to check\n",
    "columns_to_check = ['Color_SRM', 'Bitterness_IBU', 'Alcohol_ABV', 'Color', 'Clarity',\n",
    "                    'Perceived Malt Aroma & Flavor', 'Perceived Hop Aroma & Flavor',\n",
    "                    'Body']\n",
    "\n",
    "def fill_missing_values(row):\n",
    "    if pd.notnull(row['Modified Style Name']):\n",
    "        if row[columns_to_check].isnull().all():  # Check if all columns are NaN\n",
    "            # Find the corresponding row in styles_bab\n",
    "            matching_rows = styles_bab[styles_bab['style_name'] == row['Modified Style Name']]\n",
    "            if not matching_rows.empty:  # Check if matching rows are found\n",
    "                fill_values = matching_rows.iloc[0]\n",
    "                for col in columns_to_check:\n",
    "                    if pd.isnull(row[col]):\n",
    "                        row[col] = fill_values[col]\n",
    "    return row\n",
    "\n",
    "# Apply this function to every row in styles_details\n",
    "styles_details = styles_details.apply(fill_missing_values, axis=1)\n",
    "\n",
    "def replace_varies(row):\n",
    "    # If the word 'varies' or 'Varies' is present in the 'Color_SRM' column, replace its value with '1-100'\n",
    "    if 'varies' in str(row['Color_SRM']).lower():\n",
    "        row['Color_SRM'] = '1-100'\n",
    "    # If the word 'varies' or 'Varies' is present in the 'Bitterness_IBU' column, replace its value with '1-120'\n",
    "    if 'varies' in str(row['Bitterness_IBU']).lower():\n",
    "        row['Bitterness_IBU'] = '1-120'\n",
    "    # If the word 'varies' or 'Varies' is present in the 'Alcohol_ABV' column, replace its value with '0-15+%'\n",
    "    if 'varies' in str(row['Alcohol_ABV']).lower():\n",
    "        row['Alcohol_ABV'] = '0-15+%'\n",
    "    return row\n",
    "\n",
    "# Apply this function to each row of the styles_details DataFrame\n",
    "styles_details = styles_details.apply(replace_varies, axis=1)\n"
   ]
  },
  {
   "cell_type": "markdown",
   "metadata": {},
   "source": [
    "### Matching Product Beer Styles Manually"
   ]
  },
  {
   "cell_type": "code",
   "execution_count": 27,
   "metadata": {},
   "outputs": [],
   "source": [
    "# Add lost data manually\n",
    "missing_values = pd.DataFrame([{'style_name': 'American IPA', 'Color_SRM': '6-12', 'Bitterness_IBU': '50-70', 'Alcohol_ABV': '6.3-7.5%', 'Color': 'Gold to Copper, Red/Brown', 'Clarity': 'Clear to Slight Haze', \n",
    "                                        'Perceived Malt Aroma & Flavor': 'Biscuit, Bready, Caramel', 'Perceived Hop Aroma & Flavor': 'Hop aroma is high and hop flavor is strong both with floral qualities and citrus-like, piney, resinous or sulfur-like American-variety hop character. Hop bitterness is medium-high to very high', 'Fermentation Characteristics': None, 'Body': 'Soft to Sticky'},\n",
    "                               {'style_name': 'German-Style Maibock', 'Color_SRM': '4-9', 'Bitterness_IBU': '20-38', 'Alcohol_ABV': '6-8%', 'Color': 'Pale to Light Amber', 'Clarity': 'Clear', \n",
    "                                        'Perceived Malt Aroma & Flavor': 'A lightly toasted and/or bready malt aroma is often evident. Roasted or heavy toast/caramel malt aromas should be absent', 'Perceived Hop Aroma & Flavor': 'Hop aroma and flavor are low to medium low, deriving from noble-type hops. Hop bitterness is low', 'Fermentation Characteristics': None, 'Body': 'Soft'},\n",
    "                               {'style_name': 'Fruit and Field Beer', 'Color_SRM': '5-50', 'Bitterness_IBU': '5-45', 'Alcohol_ABV': '2.5-12%', 'Color': 'Pale to Very Dark', 'Clarity': 'Varies', \n",
    "                                        'Perceived Malt Aroma & Flavor': 'Malt sweetness is very low to medium-high', 'Perceived Hop Aroma & Flavor': 'Hop bitterness is very low to medium-high', 'Fermentation Characteristics': None, 'Body': 'Varies'},\n",
    "                               {'style_name': 'English-Style IPA', 'Color_SRM': '6-14', 'Bitterness_IBU': '35-63', 'Alcohol_ABV': '5-7%', 'Color': 'Gold to Copper', 'Clarity': 'Clear to Slight Haze', \n",
    "                                        'Perceived Malt Aroma & Flavor': 'Bready, Biscuit, Toast, Caramel, Toffee', 'Perceived Hop Aroma & Flavor': 'Hop aroma is medium to high, often flowery. Hop flavor and bitterness are medium to high. Earthy and herbal English-variety hop character is perceived, but may be a result of the skillful use of hops of other national origins', 'Fermentation Characteristics': None, 'Body': 'Moderate'},\n",
    "                               {'style_name': 'German-Style Pilsner', 'Color_SRM': '3-4', 'Bitterness_IBU': '25-50', 'Alcohol_ABV': '4.6-5.3%', 'Color': 'Straw to Pale', 'Clarity': 'Brilliant', \n",
    "                                        'Perceived Malt Aroma & Flavor': 'A sweet, malty residual aroma can be perceived. Bready or light biscuity attributes may be present.', 'Perceived Hop Aroma & Flavor': 'Hop flavor is moderate and quite obvious, deriving from late hopping (not dry-hopping) with noble-type hops. Hop bitterness is medium to high', 'Fermentation Characteristics': None, 'Body': 'Soft'},\n",
    "                               {'style_name': 'American Amber Ale', 'Color_SRM': '11-18', 'Bitterness_IBU': '25-45', 'Alcohol_ABV': '4.4-6.1%', 'Color': 'Copper to Reddish Brown', 'Clarity': 'Clear to Slight Haze', \n",
    "                                        'Perceived Malt Aroma & Flavor': 'Caramel', 'Perceived Hop Aroma & Flavor': 'Citrus-like character is acceptable', 'Fermentation Characteristics': None, 'Body': 'Mouth-Coating'},\n",
    "                               {'style_name': 'Imperial India Pale Ale', 'Color_SRM': '2-9', 'Bitterness_IBU': '65-100', 'Alcohol_ABV': '7.6-10.6%', 'Color': 'Gold to Light Brown', 'Clarity': 'Clear to Hazy', \n",
    "                                        'Perceived Malt Aroma & Flavor': 'Malt character is medium to high', 'Perceived Hop Aroma & Flavor': 'Hop flavor and aroma are very high, should be fresh and lively and should not be harsh in quality, deriving from any variety of hops. Hop bitterness is very high but not harsh', 'Fermentation Characteristics': None, 'Body': 'Mouth-Coating'}])\n",
    "\n",
    "def fill_missing_values(row):\n",
    "    if pd.notnull(row['Modified Style Name']):\n",
    "        if row[columns_to_check].isnull().all():  # Check if all columns are NaN\n",
    "            # Find the corresponding row in styles_bab\n",
    "            matching_rows = missing_values[missing_values['style_name'] == row['Modified Style Name']]\n",
    "            if not matching_rows.empty:  # Check if matching rows are found\n",
    "                fill_values = matching_rows.iloc[0]\n",
    "                for col in columns_to_check:\n",
    "                    if pd.isnull(row[col]):\n",
    "                        row[col] = fill_values[col]\n",
    "    return row\n",
    "\n",
    "styles_details = styles_details.apply(fill_missing_values, axis=1)\n",
    "\n",
    "# Save the updated DataFrame to a CSV file\n",
    "styles_details.to_csv('data/beer_style_details.csv')"
   ]
  },
  {
   "cell_type": "markdown",
   "metadata": {},
   "source": [
    "### Calculate Style Similarities"
   ]
  },
  {
   "cell_type": "code",
   "execution_count": 35,
   "metadata": {},
   "outputs": [
    {
     "name": "stdout",
     "output_type": "stream",
     "text": [
      "Number of rows with NaN values: 23\n",
      "total number of rows in the DataFrame: 171\n",
      "Proportion of rows with NaN values: 0.13\n"
     ]
    }
   ],
   "source": [
    "# Load styles details for calculating style similarities\n",
    "styles_details = pd.read_csv('data/beer_style_details.csv').drop(columns=['Fermentation Characteristics'])\n",
    "\n",
    "# Calculate the number of rows that have at least one NaN value\n",
    "num_rows_with_nan = styles_details.isna().any(axis=1).sum()\n",
    "\n",
    "# Calculate the total number of rows in the DataFrame\n",
    "total_rows = len(styles_details)\n",
    "\n",
    "# Calculate the proportion of rows with NaN values\n",
    "proportion_with_nan = num_rows_with_nan / total_rows\n",
    "\n",
    "# Print the result\n",
    "print(f\"Number of rows with NaN values: {num_rows_with_nan:d}\")\n",
    "print(f\"total number of rows in the DataFrame: {total_rows:d}\")\n",
    "print(f\"Proportion of rows with NaN values: {proportion_with_nan:.2f}\")"
   ]
  },
  {
   "cell_type": "code",
   "execution_count": null,
   "metadata": {},
   "outputs": [],
   "source": []
  }
 ],
 "metadata": {
  "kernelspec": {
   "display_name": "base",
   "language": "python",
   "name": "python3"
  },
  "language_info": {
   "codemirror_mode": {
    "name": "ipython",
    "version": 3
   },
   "file_extension": ".py",
   "mimetype": "text/x-python",
   "name": "python",
   "nbconvert_exporter": "python",
   "pygments_lexer": "ipython3",
   "version": "3.8.8"
  }
 },
 "nbformat": 4,
 "nbformat_minor": 2
}
